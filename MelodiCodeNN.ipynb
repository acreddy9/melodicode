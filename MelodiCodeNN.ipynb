# First run this section, then add your .mid files to the midi_songs directory
import os
try:
    os.mkdir("./data")
    os.mkdir("./midi_songs")
except OSError:
    print ("Creation of the directory %s failed" )
else:
    print ("Successfully created the directory %s ")
    
# Then run this section to generate a song
import glob
import music21 as m21
import numpy
from music21 import converter, instrument, note, chord, stream
from keras.models import Sequential
from keras.layers import Dense
from keras.layers import Dropout
from keras.layers import LSTM
from keras.layers import Activation
from keras.layers import BatchNormalization as BatchNorm
from keras.utils import np_utils
from keras.callbacks import ModelCheckpoint
import os
import pickle
import re

NNoutputnotes=[]

newnotes = [] 
offset = 0
looper = 0

def train(model, network_input, network_output):
    """ train the neural network """
    filepath = "weights-improvement-{epoch:02d}-{loss:.4f}-bigger.hdf5"
    checkpoint = ModelCheckpoint(
        filepath,
        monitor='loss',
        verbose=0,
        save_best_only=True,
        mode='min'
    )
    callbacks_list = [checkpoint]

    model.fit(network_input, network_output, epochs=1, batch_size=128, callbacks=callbacks_list)
    
def generate():
    """ Generate a piano midi file """
    #load the notes used to train the model
    notes, lengths, volumes = genoutput()
    m21.duration.Duration(0.333333333)
    test = str(m21.duration.Duration(0.333333333))
    #l = float(re.search(r'\f+', test).group())
    
    # Get all volumes
    volnames = sorted(set(item for item in volumes))
    
    v_vocab = len(set(volumes))
    network_inputv, normalized_inputv, outputv = prepare_sequences(volumes, volnames, v_vocab)

    modelv = create_network(normalized_inputv, v_vocab)

    train(modelv, normalized_inputv, outputv)
    prediction_outputv = generate_notes(modelv, network_inputv, volnames, v_vocab)
    
     # Get all lens
    lennames = sorted(set(item for item in lengths))
    
    l_vocab = len(set(lengths))
    network_inputl, normalized_inputl, outputl = prepare_sequences(lengths, lennames, l_vocab)
    modell = create_network(normalized_inputl, l_vocab)
    train(modell, normalized_inputl, outputl)
    prediction_outputl = generate_notes(modell, network_inputl, lennames, l_vocab)


    # Get all pitch names
    pitchnames = sorted(set(item for item in notes))
    # Get total # of pitch classes
    n_vocab = len(set(notes))
    
    network_input, normalized_input, output = prepare_sequences(notes, pitchnames, n_vocab)
    model = create_network(normalized_input, n_vocab)
    train(model, normalized_input, output)
    prediction_output = generate_notes(model, network_input, pitchnames, n_vocab)

    midi(prediction_output, prediction_outputv, prediction_outputl)

def create_network(network_input, n_vocab):
    """ create the structure of the neural network """
    model = Sequential()
    model.add(LSTM(
        512,
        input_shape=(network_input.shape[1], network_input.shape[2]),
        recurrent_dropout=0.3,
        return_sequences=True
    ))
    model.add(LSTM(512, return_sequences=True, recurrent_dropout=0.3,))
    model.add(LSTM(512))
    model.add(BatchNorm())
    model.add(Dropout(0.3))
    model.add(Dense(256))
    model.add(Activation('relu'))
    model.add(BatchNorm())
    model.add(Dropout(0.3))
    model.add(Dense(n_vocab))
    model.add(Activation('softmax'))
    model.compile(loss='categorical_crossentropy', optimizer='rmsprop')

    # Load the weights to each node
    model.load_weights('weights.hdf5')

    return mode
    
def generate_notes(model, network_input, pitchnames, n_vocab):
    """ Generate notes from the neural network based on a sequence of notes """
    # pick a random sequence from the input as a starting point for the prediction
    start = numpy.random.randint(0, len(network_input)-1)

    int_to_note = dict((number, note) for number, note in enumerate(pitchnames))

    pattern = network_input[start]
    prediction_output = []

    # generate 500 notes
    for note_index in range(500):
        prediction_input = numpy.reshape(pattern, (1, len(pattern), 1))
        prediction_input = prediction_input / float(n_vocab)

        prediction = model.predict(prediction_input, verbose=0)

        index = numpy.argmax(prediction)
        result = int_to_note[index]
        prediction_output.append(result)

        pattern.append(index)
        pattern = pattern[1:len(pattern)]

    return prediction_output
    
def prepare_sequences(notes, pitchnames, n_vocab):
    """ Prepare the sequences used by the Neural Network """
    # map between notes and integers and back
    note_to_int = dict((note, number) for number, note in enumerate(pitchnames))

    sequence_length = 100
    network_input = []
    output = []
    for i in range(0, len(notes) - sequence_length, 1):
        sequence_in = notes[i:i + sequence_length]
        sequence_out = notes[i + sequence_length]
        network_input.append([note_to_int[char] for char in sequence_in])
        output.append(note_to_int[sequence_out])

    n_patterns = len(network_input)
    
    # reshape the input into a format compatible with LSTM layers
    normalized_input = numpy.reshape(network_input, (n_patterns, sequence_length, 1))
    # normalize input
    normalized_input = normalized_input / float(n_vocab)
    network_output = np_utils.to_categorical(output)
    return (network_input, normalized_input, network_output)

def get_notes():
    """ Get all the notes and chords from the midi files in the ./midi_songs directory """
    notes = []
    lengths = []
    volumes = []

    for file in glob.glob("midi_songs/*.mid"):
        midi = converter.parse(file)

        print("Parsing %s" % file)

        notes_to_parse = None

        try: # file has instrument parts
            s2 = instrument.partitionByInstrument(midi)
            notes_to_parse = s2.parts[0].recurse() 
        except: # file has notes in a flat structure
            notes_to_parse = midi.flat.notes

        for element in notes_to_parse:
            if isinstance(element, note.Note):
                notes.append(str(element.pitch))
                lengths.append(str(float(element.duration.quarterLength)))
                volumes.append(str(element.volume.velocity))
            elif isinstance(element, chord.Chord):
                notes.append('.'.join(str(n) for n in element.normalOrder))
                lengths.append(str(float(element.duration.quarterLength)))
                volumes.append(str(element.volume.velocity))
    with open('data/notes', 'wb') as filepath:
        pickle.dump(notes, filepath)

    return notes, lengths, volumes
        
def genoutput():
    
    notes, lengths, volumes = get_notes()
    return notes, lengths, volumes
    
def midi(NNoutputnotes, volumes, lengths):
    
    looper = 0
    offset = 0
    for pattern in NNoutputnotes:
        if ('.' in pattern) or pattern.isdigit():
            notes_in_chord = pattern.split('.')
            notes = []
     
            for current_note in notes_in_chord:
                new_note = note.Note(int(current_note))
                new_note.storedInstrument = instrument.Piano()
                notes.append(new_note)
            new_chord = chord.Chord(notes)
            new_chord.offset = offset
            new_note.volume.velocity = int(volumes[looper])
            new_note.duration.quarterLength = float(lengths[looper])
            newnotes.append(new_chord)
         # pattern is a note
        else:
            new_note = note.Note(pattern)
            new_note.offset = offset
            new_note.storedInstrument = instrument.Piano()
            new_note.volume.velocity = int(volumes[looper])
            new_note.duration.quarterLength = float(lengths[looper])
            newnotes.append(new_note)
        offset += 0.5
        looper+=1
        midi_stream = stream.Stream(newnotes[:100])
        midi_stream.write('musicxml', fp = 'newxml.musicxml')
        midi_stream.write('midi', fp='test_output.mid')
        
if __name__ == '__main__':        
    generate()
